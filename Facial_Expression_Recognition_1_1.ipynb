{
  "nbformat": 4,
  "nbformat_minor": 0,
  "metadata": {
    "colab": {
      "provenance": []
    },
    "kernelspec": {
      "name": "python3",
      "display_name": "Python 3"
    },
    "language_info": {
      "name": "python"
    },
    "accelerator": "GPU",
    "gpuClass": "standard"
  },
  "cells": [
    {
      "cell_type": "code",
      "execution_count": null,
      "metadata": {
        "colab": {
          "base_uri": "https://localhost:8080/"
        },
        "id": "FByd6qoaA9do",
        "outputId": "63bbdd25-d102-4bef-b2c8-2e71aef58826"
      },
      "outputs": [
        {
          "output_type": "stream",
          "name": "stdout",
          "text": [
            "Thu Aug 29 13:59:31 2024       \n",
            "+---------------------------------------------------------------------------------------+\n",
            "| NVIDIA-SMI 535.104.05             Driver Version: 535.104.05   CUDA Version: 12.2     |\n",
            "|-----------------------------------------+----------------------+----------------------+\n",
            "| GPU  Name                 Persistence-M | Bus-Id        Disp.A | Volatile Uncorr. ECC |\n",
            "| Fan  Temp   Perf          Pwr:Usage/Cap |         Memory-Usage | GPU-Util  Compute M. |\n",
            "|                                         |                      |               MIG M. |\n",
            "|=========================================+======================+======================|\n",
            "|   0  Tesla T4                       Off | 00000000:00:04.0 Off |                    0 |\n",
            "| N/A   40C    P8               9W /  70W |      0MiB / 15360MiB |      0%      Default |\n",
            "|                                         |                      |                  N/A |\n",
            "+-----------------------------------------+----------------------+----------------------+\n",
            "                                                                                         \n",
            "+---------------------------------------------------------------------------------------+\n",
            "| Processes:                                                                            |\n",
            "|  GPU   GI   CI        PID   Type   Process name                            GPU Memory |\n",
            "|        ID   ID                                                             Usage      |\n",
            "|=======================================================================================|\n",
            "|  No running processes found                                                           |\n",
            "+---------------------------------------------------------------------------------------+\n"
          ]
        }
      ],
      "source": [
        "!nvidia-smi"
      ]
    },
    {
      "cell_type": "code",
      "source": [
        "!wget https://www.dropbox.com/s/si11cws2pyho1bp/archive.zip"
      ],
      "metadata": {
        "colab": {
          "base_uri": "https://localhost:8080/"
        },
        "id": "6OT9gCqhBQ3d",
        "outputId": "66d49fa4-4fe7-4e84-8f93-618b583ffb51"
      },
      "execution_count": null,
      "outputs": [
        {
          "output_type": "stream",
          "name": "stdout",
          "text": [
            "--2024-08-29 13:59:34--  https://www.dropbox.com/s/si11cws2pyho1bp/archive.zip\n",
            "Resolving www.dropbox.com (www.dropbox.com)... 162.125.65.18, 2620:100:6021:18::a27d:4112\n",
            "Connecting to www.dropbox.com (www.dropbox.com)|162.125.65.18|:443... connected.\n",
            "HTTP request sent, awaiting response... 302 Found\n",
            "Location: https://www.dropbox.com/scl/fi/x9eaye2fanuc005ucprmq/archive.zip?rlkey=fawlx24mxtnicc8f65kd5ufap [following]\n",
            "--2024-08-29 13:59:35--  https://www.dropbox.com/scl/fi/x9eaye2fanuc005ucprmq/archive.zip?rlkey=fawlx24mxtnicc8f65kd5ufap\n",
            "Reusing existing connection to www.dropbox.com:443.\n",
            "HTTP request sent, awaiting response... 302 Found\n",
            "Location: https://uc017974c1e11b0c9fe3510f1c1b.dl.dropboxusercontent.com/cd/0/inline/CZn7S49_oicerXAtGdkKztdTkzG_c4WYFa7xJufyK3OjD2CEbOtk4aGmu86pL42Lis-k27DTIlpjOeWev9eQtlHIiTasxtZN7GyNLSeZeFTDB_wuReaxl_ytJamOSHLCgKe3VinsQ5geCciOOlXm8HzU/file# [following]\n",
            "--2024-08-29 13:59:35--  https://uc017974c1e11b0c9fe3510f1c1b.dl.dropboxusercontent.com/cd/0/inline/CZn7S49_oicerXAtGdkKztdTkzG_c4WYFa7xJufyK3OjD2CEbOtk4aGmu86pL42Lis-k27DTIlpjOeWev9eQtlHIiTasxtZN7GyNLSeZeFTDB_wuReaxl_ytJamOSHLCgKe3VinsQ5geCciOOlXm8HzU/file\n",
            "Resolving uc017974c1e11b0c9fe3510f1c1b.dl.dropboxusercontent.com (uc017974c1e11b0c9fe3510f1c1b.dl.dropboxusercontent.com)... 162.125.65.15, 2620:100:6021:15::a27d:410f\n",
            "Connecting to uc017974c1e11b0c9fe3510f1c1b.dl.dropboxusercontent.com (uc017974c1e11b0c9fe3510f1c1b.dl.dropboxusercontent.com)|162.125.65.15|:443... connected.\n",
            "HTTP request sent, awaiting response... 302 Found\n",
            "Location: /cd/0/inline2/CZlXqVas6VkO_nvC-eQKrU6dw91LCMBw_PlRSFkOgciIar_FpyK2lvntsd9EJ6GtTpWweeumaDk8P1pjeFHCgGTvSQDLtqIhw0fcNVT8qpI5H1XkqvLRkBNX_S2vfiEucMydzQG-Vw074zrRMzpyR6Alk0eFd8acLAoUioVs6o34WXjJ4JwrMCF8m3wggPZPOeS4bRv4SUWNaGVEvB7WM39IYm1d5i5zdYcbC4xP9lum7C4as2NFCOLh4EiRprANTEZeJe_3prePToQatjGt2k0zbt79BD25QSMOsMfGYjZg4U4fTk11vS6XNc6fwTzJZBiJUaoBXSG7fLCvbMMxxLxiHG12aSLgL1FuE--JrMkm5d8zsHjJ9Mpl4xC3Xf3XmdI/file [following]\n",
            "--2024-08-29 13:59:36--  https://uc017974c1e11b0c9fe3510f1c1b.dl.dropboxusercontent.com/cd/0/inline2/CZlXqVas6VkO_nvC-eQKrU6dw91LCMBw_PlRSFkOgciIar_FpyK2lvntsd9EJ6GtTpWweeumaDk8P1pjeFHCgGTvSQDLtqIhw0fcNVT8qpI5H1XkqvLRkBNX_S2vfiEucMydzQG-Vw074zrRMzpyR6Alk0eFd8acLAoUioVs6o34WXjJ4JwrMCF8m3wggPZPOeS4bRv4SUWNaGVEvB7WM39IYm1d5i5zdYcbC4xP9lum7C4as2NFCOLh4EiRprANTEZeJe_3prePToQatjGt2k0zbt79BD25QSMOsMfGYjZg4U4fTk11vS6XNc6fwTzJZBiJUaoBXSG7fLCvbMMxxLxiHG12aSLgL1FuE--JrMkm5d8zsHjJ9Mpl4xC3Xf3XmdI/file\n",
            "Reusing existing connection to uc017974c1e11b0c9fe3510f1c1b.dl.dropboxusercontent.com:443.\n",
            "HTTP request sent, awaiting response... 200 OK\n",
            "Length: 63252113 (60M) [application/zip]\n",
            "Saving to: ‘archive.zip’\n",
            "\n",
            "archive.zip         100%[===================>]  60.32M  23.6MB/s    in 2.6s    \n",
            "\n",
            "2024-08-29 13:59:39 (23.6 MB/s) - ‘archive.zip’ saved [63252113/63252113]\n",
            "\n"
          ]
        }
      ]
    },
    {
      "cell_type": "code",
      "source": [
        "!unzip -q \"/content/archive.zip\""
      ],
      "metadata": {
        "id": "UetUqbqlB3-V"
      },
      "execution_count": null,
      "outputs": []
    },
    {
      "cell_type": "code",
      "source": [
        "import tensorflow as tf\n",
        "import numpy as np\n",
        "import matplotlib.pyplot as plt\n",
        "from pathlib import Path\n",
        "\n",
        "tf.random.set_seed(4)"
      ],
      "metadata": {
        "id": "pmWuLcT_CAvr"
      },
      "execution_count": null,
      "outputs": []
    },
    {
      "cell_type": "code",
      "source": [
        "# Creating the Pathlib PATH objects\n",
        "train_path = Path(\"/content/train\")\n",
        "test_path =Path(\"/content/test\")"
      ],
      "metadata": {
        "id": "VS9YQ9hLCkDR"
      },
      "execution_count": null,
      "outputs": []
    },
    {
      "cell_type": "code",
      "source": [
        "# Getting Image paths\n",
        "train_image_paths = list(train_path.glob(\"*/*\"))\n",
        "train_image_paths = list(map(lambda x : str(x) , train_image_paths))\n",
        "\n",
        "train_image_paths[:10]"
      ],
      "metadata": {
        "colab": {
          "base_uri": "https://localhost:8080/"
        },
        "id": "fG1f54dPDI6y",
        "outputId": "979d5de6-7fad-4d16-a6fb-754ea7e0b9bd"
      },
      "execution_count": null,
      "outputs": [
        {
          "output_type": "execute_result",
          "data": {
            "text/plain": [
              "['/content/train/fear/Training_17997300.jpg',\n",
              " '/content/train/fear/Training_47762116.jpg',\n",
              " '/content/train/fear/Training_11771361.jpg',\n",
              " '/content/train/fear/Training_93925872.jpg',\n",
              " '/content/train/fear/Training_38188558.jpg',\n",
              " '/content/train/fear/Training_68008375.jpg',\n",
              " '/content/train/fear/Training_84941007.jpg',\n",
              " '/content/train/fear/Training_82449946.jpg',\n",
              " '/content/train/fear/Training_41083563.jpg',\n",
              " '/content/train/fear/Training_71463288.jpg']"
            ]
          },
          "metadata": {},
          "execution_count": 6
        }
      ]
    },
    {
      "cell_type": "code",
      "source": [
        "# Getting their respective labels\n",
        "\n",
        "def get_label(image_path):\n",
        "    return image_path.split(\"/\")[-2]\n",
        "\n",
        "train_image_labels = list(map(lambda x : get_label(x) , train_image_paths))\n",
        "train_image_labels[:10]"
      ],
      "metadata": {
        "colab": {
          "base_uri": "https://localhost:8080/"
        },
        "id": "0KAQ_VkyDqyC",
        "outputId": "e4ba73f3-777f-4591-b3ad-17c05408a939"
      },
      "execution_count": null,
      "outputs": [
        {
          "output_type": "execute_result",
          "data": {
            "text/plain": [
              "['fear',\n",
              " 'fear',\n",
              " 'fear',\n",
              " 'fear',\n",
              " 'fear',\n",
              " 'fear',\n",
              " 'fear',\n",
              " 'fear',\n",
              " 'fear',\n",
              " 'fear']"
            ]
          },
          "metadata": {},
          "execution_count": 7
        }
      ]
    },
    {
      "cell_type": "code",
      "source": [
        "from sklearn.preprocessing import LabelEncoder\n",
        "\n",
        "Le = LabelEncoder()\n",
        "train_image_labels = Le.fit_transform(train_image_labels)\n",
        "\n",
        "train_image_labels[:10]"
      ],
      "metadata": {
        "colab": {
          "base_uri": "https://localhost:8080/"
        },
        "id": "B8o1GiVnD1Fz",
        "outputId": "8ac5e0da-c0eb-4d11-b96d-ba16d55ee9b4"
      },
      "execution_count": null,
      "outputs": [
        {
          "output_type": "execute_result",
          "data": {
            "text/plain": [
              "array([2, 2, 2, 2, 2, 2, 2, 2, 2, 2])"
            ]
          },
          "metadata": {},
          "execution_count": 8
        }
      ]
    },
    {
      "cell_type": "code",
      "source": [
        "train_image_labels = tf.keras.utils.to_categorical(train_image_labels)\n",
        "\n",
        "train_image_labels[:10]"
      ],
      "metadata": {
        "colab": {
          "base_uri": "https://localhost:8080/"
        },
        "id": "Kmbj-AybD_KE",
        "outputId": "973e9324-22cb-4b3c-c28d-abdc1d45d933"
      },
      "execution_count": null,
      "outputs": [
        {
          "output_type": "execute_result",
          "data": {
            "text/plain": [
              "array([[0., 0., 1., 0., 0., 0., 0.],\n",
              "       [0., 0., 1., 0., 0., 0., 0.],\n",
              "       [0., 0., 1., 0., 0., 0., 0.],\n",
              "       [0., 0., 1., 0., 0., 0., 0.],\n",
              "       [0., 0., 1., 0., 0., 0., 0.],\n",
              "       [0., 0., 1., 0., 0., 0., 0.],\n",
              "       [0., 0., 1., 0., 0., 0., 0.],\n",
              "       [0., 0., 1., 0., 0., 0., 0.],\n",
              "       [0., 0., 1., 0., 0., 0., 0.],\n",
              "       [0., 0., 1., 0., 0., 0., 0.]])"
            ]
          },
          "metadata": {},
          "execution_count": 9
        }
      ]
    },
    {
      "cell_type": "code",
      "source": [
        "from sklearn.model_selection import train_test_split\n",
        "\n",
        "Train_paths , Val_paths , Train_labels , Val_labels = train_test_split(train_image_paths , train_image_labels , test_size = 0.25)"
      ],
      "metadata": {
        "id": "4YB3zG4sEmJk"
      },
      "execution_count": null,
      "outputs": []
    },
    {
      "cell_type": "code",
      "source": [
        "# Compute class weights\n",
        "\n",
        "classTotals = Train_labels.sum(axis=0)\n",
        "classWeight = classTotals.max() / classTotals\n",
        "\n",
        "class_weight = {e : weight for e , weight in enumerate(classWeight)}\n",
        "print(class_weight)"
      ],
      "metadata": {
        "colab": {
          "base_uri": "https://localhost:8080/"
        },
        "id": "t34m3O3iEvOg",
        "outputId": "86af59fc-267c-4e9f-986a-5c0a201abbae"
      },
      "execution_count": null,
      "outputs": [
        {
          "output_type": "stream",
          "name": "stdout",
          "text": [
            "{0: 1.7879694250581588, 1: 16.253776435045317, 2: 1.7382875605815833, 3: 1.0, 4: 1.464742717124966, 5: 1.475185083630381, 6: 2.2454090150250416}\n"
          ]
        }
      ]
    },
    {
      "cell_type": "code",
      "source": [
        "# Function used for Transformation\n",
        "\n",
        "def load(image , label):\n",
        "    image = tf.io.read_file(image)\n",
        "    image = tf.io.decode_jpeg(image , channels = 3)\n",
        "    return image , label"
      ],
      "metadata": {
        "id": "ph83fxIvFBn6"
      },
      "execution_count": null,
      "outputs": []
    },
    {
      "cell_type": "code",
      "source": [
        "# Define IMAGE SIZE and BATCH SIZE\n",
        "IMG_SIZE = 96\n",
        "BATCH_SIZE = 32\n",
        "\n",
        "# Basic Transformation\n",
        "resize = tf.keras.Sequential([\n",
        "    tf.keras.layers.Resizing(IMG_SIZE, IMG_SIZE)\n",
        "])\n",
        "\n",
        "# Data Augmentation\n",
        "data_augmentation = tf.keras.Sequential([\n",
        "    tf.keras.layers.RandomFlip(\"horizontal\"),\n",
        "    tf.keras.layers.RandomRotation(0.1),\n",
        "    tf.keras.layers.RandomZoom(height_factor = (-0.1, -0.05))\n",
        "])"
      ],
      "metadata": {
        "id": "yBpt5y7QGWYD"
      },
      "execution_count": null,
      "outputs": []
    },
    {
      "cell_type": "code",
      "source": [
        "# Function used to Create a Tensorflow Data Object\n",
        "AUTOTUNE = tf.data.experimental.AUTOTUNE\n",
        "def get_dataset(paths , labels , train = True):\n",
        "    image_paths = tf.convert_to_tensor(paths)\n",
        "    labels = tf.convert_to_tensor(labels)\n",
        "\n",
        "    image_dataset = tf.data.Dataset.from_tensor_slices(image_paths)\n",
        "    label_dataset = tf.data.Dataset.from_tensor_slices(labels)\n",
        "\n",
        "    dataset = tf.data.Dataset.zip((image_dataset , label_dataset))\n",
        "\n",
        "    dataset = dataset.map(lambda image , label : load(image , label))\n",
        "    dataset = dataset.map(lambda image, label: (resize(image), label) , num_parallel_calls=AUTOTUNE)\n",
        "    dataset = dataset.shuffle(1000)\n",
        "    dataset = dataset.batch(BATCH_SIZE)\n",
        "\n",
        "    if train:\n",
        "        dataset = dataset.map(lambda image, label: (data_augmentation(image), label) , num_parallel_calls=AUTOTUNE)\n",
        "\n",
        "    dataset = dataset.repeat()\n",
        "    return dataset"
      ],
      "metadata": {
        "id": "mEjnrlPaG8Ju"
      },
      "execution_count": null,
      "outputs": []
    },
    {
      "cell_type": "code",
      "source": [
        "# Creating Train Dataset object and Verifying it\n",
        "%time train_dataset = get_dataset(Train_paths , Train_labels)\n",
        "\n",
        "image , label = next(iter(train_dataset))\n",
        "print(image.shape)\n",
        "print(label.shape)"
      ],
      "metadata": {
        "colab": {
          "base_uri": "https://localhost:8080/"
        },
        "id": "M5_nwT3OM4KG",
        "outputId": "00df4c07-7e7b-43a9-c634-c4ff32695636"
      },
      "execution_count": null,
      "outputs": [
        {
          "output_type": "stream",
          "name": "stdout",
          "text": [
            "CPU times: user 1.72 s, sys: 57.3 ms, total: 1.78 s\n",
            "Wall time: 2.72 s\n",
            "(32, 96, 96, 3)\n",
            "(32, 7)\n"
          ]
        }
      ]
    },
    {
      "cell_type": "code",
      "source": [
        "# Viewing a sample Training Image\n",
        "print(Le.inverse_transform(np.argmax(label , axis = 1))[0])\n",
        "plt.imshow((image[0].numpy()/255).reshape(96 , 96 , 3))"
      ],
      "metadata": {
        "colab": {
          "base_uri": "https://localhost:8080/",
          "height": 469
        },
        "id": "bUiA12yTO5w6",
        "outputId": "cb0dc4a0-b9b8-4e0e-aa68-acf05b9dd8c6"
      },
      "execution_count": null,
      "outputs": [
        {
          "output_type": "stream",
          "name": "stdout",
          "text": [
            "surprise\n"
          ]
        },
        {
          "output_type": "execute_result",
          "data": {
            "text/plain": [
              "<matplotlib.image.AxesImage at 0x7dbf7548d930>"
            ]
          },
          "metadata": {},
          "execution_count": 17
        },
        {
          "output_type": "display_data",
          "data": {
            "text/plain": [
              "<Figure size 640x480 with 1 Axes>"
            ],
            "image/png": "[encoded data removed]"
          },
          "metadata": {}
        }
      ]
    },
    {
      "cell_type": "code",
      "source": [
        "%time val_dataset = get_dataset(Val_paths , Val_labels , train = False)\n",
        "\n",
        "image , label = next(iter(val_dataset))\n",
        "print(image.shape)\n",
        "print(label.shape)"
      ],
      "metadata": {
        "colab": {
          "base_uri": "https://localhost:8080/"
        },
        "id": "xH4q6Rq-PkOy",
        "outputId": "77765a77-8391-4af7-8418-6cc7fed0cb81"
      },
      "execution_count": null,
      "outputs": [
        {
          "output_type": "stream",
          "name": "stdout",
          "text": [
            "CPU times: user 33.6 ms, sys: 0 ns, total: 33.6 ms\n",
            "Wall time: 33.2 ms\n",
            "(32, 96, 96, 3)\n",
            "(32, 7)\n"
          ]
        }
      ]
    },
    {
      "cell_type": "code",
      "source": [
        "# Viewing sample Validation Image\n",
        "print(Le.inverse_transform(np.argmax(label , axis = 1))[0])\n",
        "plt.imshow((image[0].numpy()/255).reshape(96 , 96 , 3))"
      ],
      "metadata": {
        "colab": {
          "base_uri": "https://localhost:8080/",
          "height": 469
        },
        "id": "g_FQmP5KPrgJ",
        "outputId": "e3dd9a25-c17e-4341-f2ce-23ebe240dca9"
      },
      "execution_count": null,
      "outputs": [
        {
          "output_type": "stream",
          "name": "stdout",
          "text": [
            "happy\n"
          ]
        },
        {
          "output_type": "execute_result",
          "data": {
            "text/plain": [
              "<matplotlib.image.AxesImage at 0x7dbf602a6860>"
            ]
          },
          "metadata": {},
          "execution_count": 19
        },
        {
          "output_type": "display_data",
          "data": {
            "text/plain": [
              "<Figure size 640x480 with 1 Axes>"
            ],
            "image/png": "[encoded data removed]"
          },
          "metadata": {}
        }
      ]
    },
    {
      "cell_type": "code",
      "source": [
        "# Building EfficientNet model\n",
        "from tensorflow.keras.applications import EfficientNetB2\n",
        "\n",
        "backbone = EfficientNetB2(\n",
        "    input_shape=(96, 96, 3),\n",
        "    include_top=False\n",
        ")\n",
        "input_layer = tf.keras.layers.Input(shape=(96, 96, 3))\n",
        "model = tf.keras.Sequential([\n",
        "    input_layer,\n",
        "    backbone,\n",
        "    tf.keras.layers.GlobalAveragePooling2D(),\n",
        "    tf.keras.layers.Dropout(0.3),\n",
        "    tf.keras.layers.Dense(128, activation='relu'),\n",
        "    tf.keras.layers.Dense(7, activation='softmax')\n",
        "])\n",
        "\n",
        "model.summary()"
      ],
      "metadata": {
        "colab": {
          "base_uri": "https://localhost:8080/",
          "height": 305
        },
        "id": "oIspPOoAPyit",
        "outputId": "5ef4a5c5-6556-4a85-9058-3808fc1da4bc"
      },
      "execution_count": null,
      "outputs": [
        {
          "output_type": "display_data",
          "data": {
            "text/plain": [
              "\u001b[1mModel: \"sequential_4\"\u001b[0m\n"
            ],
            "text/html": [
              "<pre style=\"white-space:pre;overflow-x:auto;line-height:normal;font-family:Menlo,'DejaVu Sans Mono',consolas,'Courier New',monospace\"><span style=\"font-weight: bold\">Model: \"sequential_4\"</span>\n",
              "</pre>\n"
            ]
          },
          "metadata": {}
        },
        {
          "output_type": "display_data",
          "data": {
            "text/plain": [
              "┏━━━━━━━━━━━━━━━━━━━━━━━━━━━━━━━━━━━━━━┳━━━━━━━━━━━━━━━━━━━━━━━━━━━━━┳━━━━━━━━━━━━━━━━━┓\n",
              "┃\u001b[1m \u001b[0m\u001b[1mLayer (type)                        \u001b[0m\u001b[1m \u001b[0m┃\u001b[1m \u001b[0m\u001b[1mOutput Shape               \u001b[0m\u001b[1m \u001b[0m┃\u001b[1m \u001b[0m\u001b[1m        Param #\u001b[0m\u001b[1m \u001b[0m┃\n",
              "┡━━━━━━━━━━━━━━━━━━━━━━━━━━━━━━━━━━━━━━╇━━━━━━━━━━━━━━━━━━━━━━━━━━━━━╇━━━━━━━━━━━━━━━━━┩\n",
              "│ efficientnetb2 (\u001b[38;5;33mFunctional\u001b[0m)          │ (\u001b[38;5;45mNone\u001b[0m, \u001b[38;5;34m3\u001b[0m, \u001b[38;5;34m3\u001b[0m, \u001b[38;5;34m1408\u001b[0m)          │       \u001b[38;5;34m7,768,569\u001b[0m │\n",
              "├──────────────────────────────────────┼─────────────────────────────┼─────────────────┤\n",
              "│ global_average_pooling2d_2           │ (\u001b[38;5;45mNone\u001b[0m, \u001b[38;5;34m1408\u001b[0m)                │               \u001b[38;5;34m0\u001b[0m │\n",
              "│ (\u001b[38;5;33mGlobalAveragePooling2D\u001b[0m)             │                             │                 │\n",
              "├──────────────────────────────────────┼─────────────────────────────┼─────────────────┤\n",
              "│ dropout_2 (\u001b[38;5;33mDropout\u001b[0m)                  │ (\u001b[38;5;45mNone\u001b[0m, \u001b[38;5;34m1408\u001b[0m)                │               \u001b[38;5;34m0\u001b[0m │\n",
              "├──────────────────────────────────────┼─────────────────────────────┼─────────────────┤\n",
              "│ dense_4 (\u001b[38;5;33mDense\u001b[0m)                      │ (\u001b[38;5;45mNone\u001b[0m, \u001b[38;5;34m128\u001b[0m)                 │         \u001b[38;5;34m180,352\u001b[0m │\n",
              "├──────────────────────────────────────┼─────────────────────────────┼─────────────────┤\n",
              "│ dense_5 (\u001b[38;5;33mDense\u001b[0m)                      │ (\u001b[38;5;45mNone\u001b[0m, \u001b[38;5;34m7\u001b[0m)                   │             \u001b[38;5;34m903\u001b[0m │\n",
              "└──────────────────────────────────────┴─────────────────────────────┴─────────────────┘\n"
            ],
            "text/html": [
              "<pre style=\"white-space:pre;overflow-x:auto;line-height:normal;font-family:Menlo,'DejaVu Sans Mono',consolas,'Courier New',monospace\">┏━━━━━━━━━━━━━━━━━━━━━━━━━━━━━━━━━━━━━━┳━━━━━━━━━━━━━━━━━━━━━━━━━━━━━┳━━━━━━━━━━━━━━━━━┓\n",
              "┃<span style=\"font-weight: bold\"> Layer (type)                         </span>┃<span style=\"font-weight: bold\"> Output Shape                </span>┃<span style=\"font-weight: bold\">         Param # </span>┃\n",
              "┡━━━━━━━━━━━━━━━━━━━━━━━━━━━━━━━━━━━━━━╇━━━━━━━━━━━━━━━━━━━━━━━━━━━━━╇━━━━━━━━━━━━━━━━━┩\n",
              "│ efficientnetb2 (<span style=\"color: #0087ff; text-decoration-color: #0087ff\">Functional</span>)          │ (<span style=\"color: #00d7ff; text-decoration-color: #00d7ff\">None</span>, <span style=\"color: #00af00; text-decoration-color: #00af00\">3</span>, <span style=\"color: #00af00; text-decoration-color: #00af00\">3</span>, <span style=\"color: #00af00; text-decoration-color: #00af00\">1408</span>)          │       <span style=\"color: #00af00; text-decoration-color: #00af00\">7,768,569</span> │\n",
              "├──────────────────────────────────────┼─────────────────────────────┼─────────────────┤\n",
              "│ global_average_pooling2d_2           │ (<span style=\"color: #00d7ff; text-decoration-color: #00d7ff\">None</span>, <span style=\"color: #00af00; text-decoration-color: #00af00\">1408</span>)                │               <span style=\"color: #00af00; text-decoration-color: #00af00\">0</span> │\n",
              "│ (<span style=\"color: #0087ff; text-decoration-color: #0087ff\">GlobalAveragePooling2D</span>)             │                             │                 │\n",
              "├──────────────────────────────────────┼─────────────────────────────┼─────────────────┤\n",
              "│ dropout_2 (<span style=\"color: #0087ff; text-decoration-color: #0087ff\">Dropout</span>)                  │ (<span style=\"color: #00d7ff; text-decoration-color: #00d7ff\">None</span>, <span style=\"color: #00af00; text-decoration-color: #00af00\">1408</span>)                │               <span style=\"color: #00af00; text-decoration-color: #00af00\">0</span> │\n",
              "├──────────────────────────────────────┼─────────────────────────────┼─────────────────┤\n",
              "│ dense_4 (<span style=\"color: #0087ff; text-decoration-color: #0087ff\">Dense</span>)                      │ (<span style=\"color: #00d7ff; text-decoration-color: #00d7ff\">None</span>, <span style=\"color: #00af00; text-decoration-color: #00af00\">128</span>)                 │         <span style=\"color: #00af00; text-decoration-color: #00af00\">180,352</span> │\n",
              "├──────────────────────────────────────┼─────────────────────────────┼─────────────────┤\n",
              "│ dense_5 (<span style=\"color: #0087ff; text-decoration-color: #0087ff\">Dense</span>)                      │ (<span style=\"color: #00d7ff; text-decoration-color: #00d7ff\">None</span>, <span style=\"color: #00af00; text-decoration-color: #00af00\">7</span>)                   │             <span style=\"color: #00af00; text-decoration-color: #00af00\">903</span> │\n",
              "└──────────────────────────────────────┴─────────────────────────────┴─────────────────┘\n",
              "</pre>\n"
            ]
          },
          "metadata": {}
        },
        {
          "output_type": "display_data",
          "data": {
            "text/plain": [
              "\u001b[1m Total params: \u001b[0m\u001b[38;5;34m7,949,824\u001b[0m (30.33 MB)\n"
            ],
            "text/html": [
              "<pre style=\"white-space:pre;overflow-x:auto;line-height:normal;font-family:Menlo,'DejaVu Sans Mono',consolas,'Courier New',monospace\"><span style=\"font-weight: bold\"> Total params: </span><span style=\"color: #00af00; text-decoration-color: #00af00\">7,949,824</span> (30.33 MB)\n",
              "</pre>\n"
            ]
          },
          "metadata": {}
        },
        {
          "output_type": "display_data",
          "data": {
            "text/plain": [
              "\u001b[1m Trainable params: \u001b[0m\u001b[38;5;34m7,882,249\u001b[0m (30.07 MB)\n"
            ],
            "text/html": [
              "<pre style=\"white-space:pre;overflow-x:auto;line-height:normal;font-family:Menlo,'DejaVu Sans Mono',consolas,'Courier New',monospace\"><span style=\"font-weight: bold\"> Trainable params: </span><span style=\"color: #00af00; text-decoration-color: #00af00\">7,882,249</span> (30.07 MB)\n",
              "</pre>\n"
            ]
          },
          "metadata": {}
        },
        {
          "output_type": "display_data",
          "data": {
            "text/plain": [
              "\u001b[1m Non-trainable params: \u001b[0m\u001b[38;5;34m67,575\u001b[0m (263.97 KB)\n"
            ],
            "text/html": [
              "<pre style=\"white-space:pre;overflow-x:auto;line-height:normal;font-family:Menlo,'DejaVu Sans Mono',consolas,'Courier New',monospace\"><span style=\"font-weight: bold\"> Non-trainable params: </span><span style=\"color: #00af00; text-decoration-color: #00af00\">67,575</span> (263.97 KB)\n",
              "</pre>\n"
            ]
          },
          "metadata": {}
        }
      ]
    },
    {
      "cell_type": "code",
      "source": [
        "# Compiling your model by providing the Optimizer , Loss and Metrics\n",
        "model.compile(\n",
        "    optimizer=tf.keras.optimizers.Adam(learning_rate=0.001, beta_1=0.9, beta_2=0.999, epsilon=1e-07),\n",
        "    loss = 'categorical_crossentropy',\n",
        "    metrics=['accuracy' , tf.keras.metrics.Precision(name='precision'),tf.keras.metrics.Recall(name='recall')]\n",
        ")"
      ],
      "metadata": {
        "id": "tegdQ8jdP8un"
      },
      "execution_count": null,
      "outputs": []
    },
    {
      "cell_type": "code",
      "source": [
        "# Train the model\n",
        "history = model.fit(\n",
        "    train_dataset,\n",
        "    steps_per_epoch=len(Train_paths)//BATCH_SIZE,\n",
        "    epochs=12,\n",
        "    validation_data=val_dataset,\n",
        "    validation_steps = len(Val_paths)//BATCH_SIZE,\n",
        "    class_weight=class_weight\n",
        ")"
      ],
      "metadata": {
        "colab": {
          "base_uri": "https://localhost:8080/"
        },
        "id": "KkC92_2_TpNd",
        "outputId": "d8e78ab7-6030-4c44-ce17-3bfa414bbbdc"
      },
      "execution_count": null,
      "outputs": [
        {
          "output_type": "stream",
          "name": "stdout",
          "text": [
            "Epoch 1/12\n",
            "\u001b[1m672/672\u001b[0m \u001b[32m━━━━━━━━━━━━━━━━━━━━\u001b[0m\u001b[37m\u001b[0m \u001b[1m176s\u001b[0m 102ms/step - accuracy: 0.3220 - loss: 3.1279 - precision: 0.5493 - recall: 0.1107 - val_accuracy: 0.4428 - val_loss: 1.4447 - val_precision: 0.6318 - val_recall: 0.2568\n",
            "Epoch 2/12\n",
            "\u001b[1m672/672\u001b[0m \u001b[32m━━━━━━━━━━━━━━━━━━━━\u001b[0m\u001b[37m\u001b[0m \u001b[1m127s\u001b[0m 97ms/step - accuracy: 0.4798 - loss: 2.4763 - precision: 0.6815 - recall: 0.2637 - val_accuracy: 0.5393 - val_loss: 1.2715 - val_precision: 0.6834 - val_recall: 0.3851\n",
            "Epoch 3/12\n",
            "\u001b[1m672/672\u001b[0m \u001b[32m━━━━━━━━━━━━━━━━━━━━\u001b[0m\u001b[37m\u001b[0m \u001b[1m59s\u001b[0m 87ms/step - accuracy: 0.5094 - loss: 2.2892 - precision: 0.6794 - recall: 0.3035 - val_accuracy: 0.5672 - val_loss: 1.1497 - val_precision: 0.7336 - val_recall: 0.3924\n",
            "Epoch 4/12\n",
            "\u001b[1m672/672\u001b[0m \u001b[32m━━━━━━━━━━━━━━━━━━━━\u001b[0m\u001b[37m\u001b[0m \u001b[1m58s\u001b[0m 86ms/step - accuracy: 0.5481 - loss: 2.0984 - precision: 0.7185 - recall: 0.3615 - val_accuracy: 0.5690 - val_loss: 1.1290 - val_precision: 0.7046 - val_recall: 0.4292\n",
            "Epoch 5/12\n",
            "\u001b[1m672/672\u001b[0m \u001b[32m━━━━━━━━━━━━━━━━━━━━\u001b[0m\u001b[37m\u001b[0m \u001b[1m58s\u001b[0m 86ms/step - accuracy: 0.5476 - loss: 2.0955 - precision: 0.7025 - recall: 0.3593 - val_accuracy: 0.5634 - val_loss: 1.1556 - val_precision: 0.7273 - val_recall: 0.3763\n",
            "Epoch 6/12\n",
            "\u001b[1m672/672\u001b[0m \u001b[32m━━━━━━━━━━━━━━━━━━━━\u001b[0m\u001b[37m\u001b[0m \u001b[1m57s\u001b[0m 85ms/step - accuracy: 0.5586 - loss: 2.0354 - precision: 0.7177 - recall: 0.3792 - val_accuracy: 0.5820 - val_loss: 1.1096 - val_precision: 0.7301 - val_recall: 0.4303\n",
            "Epoch 7/12\n",
            "\u001b[1m672/672\u001b[0m \u001b[32m━━━━━━━━━━━━━━━━━━━━\u001b[0m\u001b[37m\u001b[0m \u001b[1m59s\u001b[0m 88ms/step - accuracy: 0.5740 - loss: 1.9101 - precision: 0.7150 - recall: 0.4104 - val_accuracy: 0.6033 - val_loss: 1.0531 - val_precision: 0.7692 - val_recall: 0.4383\n",
            "Epoch 8/12\n",
            "\u001b[1m672/672\u001b[0m \u001b[32m━━━━━━━━━━━━━━━━━━━━\u001b[0m\u001b[37m\u001b[0m \u001b[1m60s\u001b[0m 89ms/step - accuracy: 0.5609 - loss: 2.0098 - precision: 0.7125 - recall: 0.3868 - val_accuracy: 0.5654 - val_loss: 1.1442 - val_precision: 0.6799 - val_recall: 0.4374\n",
            "Epoch 9/12\n",
            "\u001b[1m672/672\u001b[0m \u001b[32m━━━━━━━━━━━━━━━━━━━━\u001b[0m\u001b[37m\u001b[0m \u001b[1m60s\u001b[0m 89ms/step - accuracy: 0.5883 - loss: 1.8300 - precision: 0.7262 - recall: 0.4295 - val_accuracy: 0.6016 - val_loss: 1.0676 - val_precision: 0.7275 - val_recall: 0.4719\n",
            "Epoch 10/12\n",
            "\u001b[1m672/672\u001b[0m \u001b[32m━━━━━━━━━━━━━━━━━━━━\u001b[0m\u001b[37m\u001b[0m \u001b[1m58s\u001b[0m 86ms/step - accuracy: 0.5989 - loss: 1.7972 - precision: 0.7380 - recall: 0.4445 - val_accuracy: 0.5397 - val_loss: 1.2508 - val_precision: 0.6417 - val_recall: 0.4398\n",
            "Epoch 11/12\n",
            "\u001b[1m672/672\u001b[0m \u001b[32m━━━━━━━━━━━━━━━━━━━━\u001b[0m\u001b[37m\u001b[0m \u001b[1m59s\u001b[0m 87ms/step - accuracy: 0.6056 - loss: 1.7967 - precision: 0.7349 - recall: 0.4459 - val_accuracy: 0.6013 - val_loss: 1.0688 - val_precision: 0.7117 - val_recall: 0.4825\n",
            "Epoch 12/12\n",
            "\u001b[1m672/672\u001b[0m \u001b[32m━━━━━━━━━━━━━━━━━━━━\u001b[0m\u001b[37m\u001b[0m \u001b[1m57s\u001b[0m 85ms/step - accuracy: 0.6079 - loss: 1.7135 - precision: 0.7375 - recall: 0.4651 - val_accuracy: 0.6136 - val_loss: 1.0532 - val_precision: 0.7322 - val_recall: 0.4863\n"
          ]
        }
      ]
    },
    {
      "cell_type": "code",
      "source": [
        "model.layers[0].trainable = False"
      ],
      "metadata": {
        "id": "bfGfr8yRTqG3"
      },
      "execution_count": null,
      "outputs": []
    },
    {
      "cell_type": "code",
      "source": [
        "# Defining our callbacks\n",
        "checkpoint = tf.keras.callbacks.ModelCheckpoint(\"best_weights.weights.h5\",verbose=1,save_best_only=True,save_weights_only = True)\n",
        "early_stop = tf.keras.callbacks.EarlyStopping(patience=4)"
      ],
      "metadata": {
        "id": "pf6x1iHMYNyc"
      },
      "execution_count": null,
      "outputs": []
    },
    {
      "cell_type": "code",
      "source": [
        "model.summary()"
      ],
      "metadata": {
        "colab": {
          "base_uri": "https://localhost:8080/"
        },
        "id": "XoJnBVbDYYpV",
        "outputId": "bd6d24c9-4c9b-4c5e-fefe-c42aba1f5088"
      },
      "execution_count": null,
      "outputs": [
        {
          "output_type": "stream",
          "name": "stdout",
          "text": [
            "Model: \"sequential_2\"\n",
            "_________________________________________________________________\n",
            " Layer (type)                Output Shape              Param #   \n",
            "=================================================================\n",
            " efficientnetb2 (Functional  (None, 3, 3, 1408)        7768569   \n",
            " )                                                               \n",
            "                                                                 \n",
            " global_average_pooling2d (  (None, 1408)              0         \n",
            " GlobalAveragePooling2D)                                         \n",
            "                                                                 \n",
            " dropout (Dropout)           (None, 1408)              0         \n",
            "                                                                 \n",
            " dense (Dense)               (None, 128)               180352    \n",
            "                                                                 \n",
            " dense_1 (Dense)             (None, 7)                 903       \n",
            "                                                                 \n",
            "=================================================================\n",
            "Total params: 7949824 (30.33 MB)\n",
            "Trainable params: 181255 (708.03 KB)\n",
            "Non-trainable params: 7768569 (29.63 MB)\n",
            "_________________________________________________________________\n"
          ]
        }
      ]
    },
    {
      "cell_type": "code",
      "source": [
        "# Train the model\n",
        "history = model.fit(\n",
        "    train_dataset,\n",
        "    steps_per_epoch=len(Train_paths)//BATCH_SIZE,\n",
        "    epochs=8,\n",
        "    callbacks=[checkpoint , early_stop],\n",
        "    validation_data=val_dataset,\n",
        "    validation_steps = len(Val_paths)//BATCH_SIZE,\n",
        "    class_weight=class_weight\n",
        ")"
      ],
      "metadata": {
        "colab": {
          "base_uri": "https://localhost:8080/"
        },
        "id": "yYStDkiIYduE",
        "outputId": "c72f869d-61bf-4c61-d7bd-7a3ff11f4bb0"
      },
      "execution_count": null,
      "outputs": [
        {
          "output_type": "stream",
          "name": "stdout",
          "text": [
            "Epoch 1/8\n",
            "\u001b[1m672/672\u001b[0m \u001b[32m━━━━━━━━━━━━━━━━━━━━\u001b[0m\u001b[37m\u001b[0m \u001b[1m0s\u001b[0m 81ms/step - accuracy: 0.6221 - loss: 1.6979 - precision: 0.7476 - recall: 0.4729\n",
            "Epoch 1: val_loss improved from inf to 1.04746, saving model to best_weights.weights.h5\n",
            "\u001b[1m672/672\u001b[0m \u001b[32m━━━━━━━━━━━━━━━━━━━━\u001b[0m\u001b[37m\u001b[0m \u001b[1m60s\u001b[0m 89ms/step - accuracy: 0.6221 - loss: 1.6979 - precision: 0.7476 - recall: 0.4729 - val_accuracy: 0.6122 - val_loss: 1.0475 - val_precision: 0.7138 - val_recall: 0.4983\n",
            "Epoch 2/8\n",
            "\u001b[1m672/672\u001b[0m \u001b[32m━━━━━━━━━━━━━━━━━━━━\u001b[0m\u001b[37m\u001b[0m \u001b[1m0s\u001b[0m 80ms/step - accuracy: 0.6416 - loss: 1.6085 - precision: 0.7536 - recall: 0.5056\n",
            "Epoch 2: val_loss improved from 1.04746 to 1.02988, saving model to best_weights.weights.h5\n",
            "\u001b[1m672/672\u001b[0m \u001b[32m━━━━━━━━━━━━━━━━━━━━\u001b[0m\u001b[37m\u001b[0m \u001b[1m59s\u001b[0m 88ms/step - accuracy: 0.6416 - loss: 1.6085 - precision: 0.7536 - recall: 0.5056 - val_accuracy: 0.6236 - val_loss: 1.0299 - val_precision: 0.7082 - val_recall: 0.5362\n",
            "Epoch 3/8\n",
            "\u001b[1m672/672\u001b[0m \u001b[32m━━━━━━━━━━━━━━━━━━━━\u001b[0m\u001b[37m\u001b[0m \u001b[1m0s\u001b[0m 80ms/step - accuracy: 0.6251 - loss: 1.6293 - precision: 0.7427 - recall: 0.5015\n",
            "Epoch 3: val_loss did not improve from 1.02988\n",
            "\u001b[1m672/672\u001b[0m \u001b[32m━━━━━━━━━━━━━━━━━━━━\u001b[0m\u001b[37m\u001b[0m \u001b[1m58s\u001b[0m 86ms/step - accuracy: 0.6251 - loss: 1.6293 - precision: 0.7427 - recall: 0.5015 - val_accuracy: 0.6038 - val_loss: 1.0782 - val_precision: 0.6983 - val_recall: 0.5095\n",
            "Epoch 4/8\n",
            "\u001b[1m672/672\u001b[0m \u001b[32m━━━━━━━━━━━━━━━━━━━━\u001b[0m\u001b[37m\u001b[0m \u001b[1m0s\u001b[0m 80ms/step - accuracy: 0.6322 - loss: 1.6394 - precision: 0.7503 - recall: 0.4961\n",
            "Epoch 4: val_loss did not improve from 1.02988\n",
            "\u001b[1m672/672\u001b[0m \u001b[32m━━━━━━━━━━━━━━━━━━━━\u001b[0m\u001b[37m\u001b[0m \u001b[1m57s\u001b[0m 85ms/step - accuracy: 0.6322 - loss: 1.6393 - precision: 0.7503 - recall: 0.4961 - val_accuracy: 0.5952 - val_loss: 1.0821 - val_precision: 0.7244 - val_recall: 0.4575\n",
            "Epoch 5/8\n",
            "\u001b[1m672/672\u001b[0m \u001b[32m━━━━━━━━━━━━━━━━━━━━\u001b[0m\u001b[37m\u001b[0m \u001b[1m0s\u001b[0m 80ms/step - accuracy: 0.6399 - loss: 1.5729 - precision: 0.7552 - recall: 0.5047\n",
            "Epoch 5: val_loss did not improve from 1.02988\n",
            "\u001b[1m672/672\u001b[0m \u001b[32m━━━━━━━━━━━━━━━━━━━━\u001b[0m\u001b[37m\u001b[0m \u001b[1m58s\u001b[0m 86ms/step - accuracy: 0.6399 - loss: 1.5728 - precision: 0.7552 - recall: 0.5047 - val_accuracy: 0.6201 - val_loss: 1.0545 - val_precision: 0.7164 - val_recall: 0.5097\n",
            "Epoch 6/8\n",
            "\u001b[1m672/672\u001b[0m \u001b[32m━━━━━━━━━━━━━━━━━━━━\u001b[0m\u001b[37m\u001b[0m \u001b[1m0s\u001b[0m 80ms/step - accuracy: 0.6531 - loss: 1.5505 - precision: 0.7587 - recall: 0.5338\n",
            "Epoch 6: val_loss did not improve from 1.02988\n",
            "\u001b[1m672/672\u001b[0m \u001b[32m━━━━━━━━━━━━━━━━━━━━\u001b[0m\u001b[37m\u001b[0m \u001b[1m57s\u001b[0m 86ms/step - accuracy: 0.6531 - loss: 1.5505 - precision: 0.7587 - recall: 0.5338 - val_accuracy: 0.6038 - val_loss: 1.1085 - val_precision: 0.6956 - val_recall: 0.5118\n"
          ]
        }
      ]
    },
    {
      "cell_type": "code",
      "source": [
        "from tensorflow.keras.applications import EfficientNetB2\n",
        "\n",
        "backbone = EfficientNetB2(\n",
        "    input_shape=(96, 96, 3),\n",
        "    include_top=False\n",
        ")\n",
        "\n",
        "model = tf.keras.Sequential([\n",
        "    backbone,\n",
        "    tf.keras.layers.GlobalAveragePooling2D(),\n",
        "    tf.keras.layers.Dropout(0.3),\n",
        "    tf.keras.layers.Dense(128, activation='relu'),\n",
        "    tf.keras.layers.Dense(7, activation='softmax')\n",
        "])\n",
        "model.build((None, 96, 96, 3))\n",
        "\n",
        "model.load_weights(\"best_weights.weights.h5\")\n",
        "\n",
        "model.compile(\n",
        "    optimizer=tf.keras.optimizers.Adam(learning_rate=0.001, beta_1=0.9, beta_2=0.999, epsilon=1e-07),\n",
        "    loss = 'categorical_crossentropy',\n",
        "    metrics=['accuracy' , tf.keras.metrics.Precision(name='precision'),tf.keras.metrics.Recall(name='recall')]\n",
        ")"
      ],
      "metadata": {
        "id": "UUdBkc-XYgsa"
      },
      "execution_count": null,
      "outputs": []
    },
    {
      "cell_type": "code",
      "source": [
        "model.load_weights(\"best_weights.weights.h5\")"
      ],
      "metadata": {
        "id": "aXzfA6x3c1YA",
        "colab": {
          "base_uri": "https://localhost:8080/"
        },
        "outputId": "112630ae-7eaa-47cd-8ff7-2b1c9f5661df"
      },
      "execution_count": null,
      "outputs": [
        {
          "output_type": "stream",
          "name": "stderr",
          "text": [
            "/usr/local/lib/python3.10/dist-packages/keras/src/saving/saving_lib.py:576: UserWarning: Skipping variable loading for optimizer 'adam', because it has 2 variables whereas the saved optimizer has 608 variables. \n",
            "  saveable.load_own_variables(weights_store.get(inner_path))\n"
          ]
        }
      ]
    },
    {
      "cell_type": "code",
      "source": [
        "# Create a Dataset Object for 'Testing' Set just the way we did for Training and Validation\n",
        "test_image_paths = list(test_path.glob(\"*/*\"))\n",
        "test_image_paths = list(map(lambda x : str(x) , test_image_paths))\n",
        "test_labels = list(map(lambda x : get_label(x) , test_image_paths))\n",
        "\n",
        "test_labels = Le.transform(test_labels)\n",
        "test_labels = tf.keras.utils.to_categorical(test_labels)\n",
        "\n",
        "test_image_paths = tf.convert_to_tensor(test_image_paths)\n",
        "test_labels = tf.convert_to_tensor(test_labels)\n",
        "\n",
        "def decode_image(image , label):\n",
        "    image = tf.io.read_file(image)\n",
        "    image = tf.io.decode_jpeg(image , channels = 3)\n",
        "    image = tf.image.resize(image , [96 , 96] , method=\"bilinear\")\n",
        "    return image , label\n",
        "\n",
        "test_dataset = (\n",
        "     tf.data.Dataset\n",
        "    .from_tensor_slices((test_image_paths, test_labels))\n",
        "    .map(decode_image)\n",
        "    .batch(BATCH_SIZE)\n",
        ")"
      ],
      "metadata": {
        "id": "t9tG-mBgc_IS"
      },
      "execution_count": null,
      "outputs": []
    },
    {
      "cell_type": "code",
      "source": [
        "# Verify Test Dataset Object\n",
        "image , label = next(iter(test_dataset))\n",
        "print(image.shape)\n",
        "print(label.shape)"
      ],
      "metadata": {
        "colab": {
          "base_uri": "https://localhost:8080/"
        },
        "id": "OYoasJhudEO6",
        "outputId": "7166f57b-caf6-467c-f0ad-2e107a0f704d"
      },
      "execution_count": null,
      "outputs": [
        {
          "output_type": "stream",
          "name": "stdout",
          "text": [
            "(32, 96, 96, 3)\n",
            "(32, 7)\n"
          ]
        }
      ]
    },
    {
      "cell_type": "code",
      "source": [
        "# View a sample Validation Image\n",
        "print(Le.inverse_transform(np.argmax(label , axis = 1))[0])\n",
        "plt.imshow((image[0].numpy()/255).reshape(96 , 96 , 3))"
      ],
      "metadata": {
        "colab": {
          "base_uri": "https://localhost:8080/",
          "height": 469
        },
        "id": "kvJARVS5dHTC",
        "outputId": "a42c3f7f-6350-457b-b0c5-1b9b73d6d385"
      },
      "execution_count": null,
      "outputs": [
        {
          "output_type": "stream",
          "name": "stdout",
          "text": [
            "fear\n"
          ]
        },
        {
          "output_type": "execute_result",
          "data": {
            "text/plain": [
              "<matplotlib.image.AxesImage at 0x7dbedcbc3790>"
            ]
          },
          "metadata": {},
          "execution_count": 36
        },
        {
          "output_type": "display_data",
          "data": {
            "text/plain": [
              "<Figure size 640x480 with 1 Axes>"
            ],
            "image/png": "[encoded data removed]"
          },
          "metadata": {}
        }
      ]
    },
    {
      "cell_type": "code",
      "source": [
        "# Evaluating the loaded model\n",
        "loss, acc, prec, rec = model.evaluate(test_dataset)\n",
        "\n",
        "print(\" Testing Acc : \" , acc)\n",
        "print(\" Testing Precision \" , prec)\n",
        "print(\" Testing Recall \" , rec)"
      ],
      "metadata": {
        "colab": {
          "base_uri": "https://localhost:8080/"
        },
        "id": "-TqPbB6EdLaT",
        "outputId": "d9ff7b3b-33c5-4cd5-f401-2c5ed92b935a"
      },
      "execution_count": null,
      "outputs": [
        {
          "output_type": "stream",
          "name": "stdout",
          "text": [
            "\u001b[1m225/225\u001b[0m \u001b[32m━━━━━━━━━━━━━━━━━━━━\u001b[0m\u001b[37m\u001b[0m \u001b[1m18s\u001b[0m 34ms/step - accuracy: 0.1604 - loss: 2.3719 - precision: 0.1818 - recall: 0.0715\n",
            " Testing Acc :  0.21565896272659302\n",
            " Testing Precision  0.22953113913536072\n",
            " Testing Recall  0.09139035642147064\n"
          ]
        }
      ]
    },
    {
      "cell_type": "code",
      "source": [
        "# Save Model\n",
        "model.save(\"FacialExpressionModel.h5\")"
      ],
      "metadata": {
        "id": "yCz-i6PxdNp4",
        "colab": {
          "base_uri": "https://localhost:8080/"
        },
        "outputId": "edcae81d-0c66-4acf-822e-e1ce5b96fbde"
      },
      "execution_count": null,
      "outputs": [
        {
          "output_type": "stream",
          "name": "stderr",
          "text": [
            "WARNING:absl:You are saving your model as an HDF5 file via `model.save()` or `keras.saving.save_model(model)`. This file format is considered legacy. We recommend using instead the native Keras format, e.g. `model.save('my_model.keras')` or `keras.saving.save_model(model, 'my_model.keras')`. \n"
          ]
        }
      ]
    },
    {
      "cell_type": "code",
      "source": [
        "# Save Label Encoder\n",
        "import pickle\n",
        "\n",
        "def save_object(obj , name):\n",
        "    pickle_obj = open(f\"{name}.pck\",\"wb\")\n",
        "    pickle.dump(obj, pickle_obj)\n",
        "    pickle_obj.close()"
      ],
      "metadata": {
        "id": "bxXO-uPodR21"
      },
      "execution_count": null,
      "outputs": []
    },
    {
      "cell_type": "code",
      "source": [
        "save_object(Le, \"LabelEncoder\")"
      ],
      "metadata": {
        "id": "Zs_YStzPdS-u"
      },
      "execution_count": null,
      "outputs": []
    },
    {
      "cell_type": "code",
      "source": [
        "# Now using opencv2 for real time application"
      ],
      "metadata": {
        "id": "Ya7dNHH9dTv7"
      },
      "execution_count": null,
      "outputs": []
    },
    {
      "cell_type": "code",
      "source": [
        "import tensorflow as tf\n",
        "import numpy as np\n",
        "import cv2\n",
        "\n",
        "import dlib\n",
        "import pickle"
      ],
      "metadata": {
        "id": "rCaMcRDQ1g3A"
      },
      "execution_count": null,
      "outputs": []
    },
    {
      "cell_type": "code",
      "source": [
        "def get_model():\n",
        "    backbone = tf.keras.applications.EfficientNetB2(\n",
        "        input_shape=(96, 96, 3),\n",
        "        include_top=False,\n",
        "        weights=None\n",
        "    )\n",
        "    model = tf.keras.Sequential([\n",
        "        backbone,\n",
        "        tf.keras.layers.GlobalAveragePooling2D(),\n",
        "        tf.keras.layers.Dropout(0.3),\n",
        "        tf.keras.layers.Dense(128, activation='relu'),\n",
        "        tf.keras.layers.Dense(7, activation='softmax')\n",
        "    ])\n",
        "    return model"
      ],
      "metadata": {
        "id": "KHcWe81S2OVn"
      },
      "execution_count": null,
      "outputs": []
    },
    {
      "cell_type": "code",
      "source": [
        "model = get_model()\n",
        "model.build(input_shape=(None, 96, 96, 3))\n",
        "model.load_weights(\"best_weights.weights.h5\") # Load the saved weights"
      ],
      "metadata": {
        "id": "rxurOaVk2Sgi"
      },
      "execution_count": null,
      "outputs": []
    },
    {
      "cell_type": "code",
      "source": [
        "# Load LabelEncoder\n",
        "def load_object(name):\n",
        "    pickle_obj = open(f\"{name}.pck\",\"rb\")\n",
        "    obj = pickle.load(pickle_obj)\n",
        "    return obj\n",
        "\n",
        "Le = load_object(\"LabelEncoder\")"
      ],
      "metadata": {
        "id": "WPwFYbf42Zf9"
      },
      "execution_count": null,
      "outputs": []
    },
    {
      "cell_type": "code",
      "source": [
        "def ProcessImage(image):\n",
        "    image = tf.convert_to_tensor(image)\n",
        "    image = tf.image.resize(image , [96 , 96] , method=\"bilinear\")\n",
        "    image = tf.expand_dims(image , 0)\n",
        "    return image\n",
        "\n",
        "def RealtimePrediction(image , model, encoder_):\n",
        "    prediction = model.predict(image)\n",
        "    prediction = np.argmax(prediction , axis = 1)\n",
        "    return encoder_.inverse_transform(prediction)[0]\n",
        "\n",
        "def rect_to_bb(rect):\n",
        "    x = rect.left()\n",
        "    y = rect.top()\n",
        "    w = rect.right() - x\n",
        "    h = rect.bottom() - y\n",
        "    return (x, y, w, h)"
      ],
      "metadata": {
        "id": "fjo1bGSr2aVC"
      },
      "execution_count": null,
      "outputs": []
    },
    {
      "cell_type": "code",
      "source": [
        "VideoCapture = cv2.VideoCapture(0)\n",
        "\n",
        "detector = dlib.get_frontal_face_detector()\n",
        "\n",
        "while True :\n",
        "\n",
        "    ret , frame = VideoCapture.read()\n",
        "\n",
        "    if not ret :\n",
        "        break\n",
        "\n",
        "    gray = cv2.cvtColor( frame , cv2.COLOR_BGR2GRAY)\n",
        "\n",
        "    rects = detector(gray , 0)\n",
        "\n",
        "    if len(rects) >= 1 :\n",
        "        for rect in rects :\n",
        "            (x , y , w , h) = rect_to_bb(rect)\n",
        "            img = gray[y-10 : y+h+10 , x-10 : x+w+10]\n",
        "\n",
        "            if img.shape[0] == 0 or img.shape[1] == 0 :\n",
        "                cv2.imshow(\"Frame\", frame)\n",
        "\n",
        "            else :\n",
        "                img = cv2.cvtColor(img , cv2.COLOR_GRAY2RGB)\n",
        "                img = ProcessImage(img)\n",
        "                out = RealtimePrediction(img , model , Le)\n",
        "                cv2.rectangle(frame, (x, y), (x+w, y+h),(0, 255, 0), 2)\n",
        "                z = y - 15 if y - 15 > 15 else y + 15\n",
        "                cv2.putText(frame, str(out), (x, z), cv2.FONT_HERSHEY_SIMPLEX,0.75, (0, 255, 0), 2)\n",
        "\n",
        "        cv2.imshow(\"Frame\", frame)\n",
        "\n",
        "    else :\n",
        "        cv2.imshow(\"Frame\", frame)\n",
        "\n",
        "    if cv2.waitKey(1) & 0xFF == ord('q'):\n",
        "        break\n",
        "\n",
        "VideoCapture.release()\n",
        "cv2.destroyAllWindows()"
      ],
      "metadata": {
        "id": "l1i0htME2bLr"
      },
      "execution_count": null,
      "outputs": []
    },
    {
      "cell_type": "code",
      "source": [],
      "metadata": {
        "id": "uvf8sjpg2ehC"
      },
      "execution_count": null,
      "outputs": []
    }
  ]
}